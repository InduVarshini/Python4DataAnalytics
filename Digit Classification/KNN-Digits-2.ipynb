{
 "cells": [
  {
   "cell_type": "code",
   "execution_count": 40,
   "metadata": {},
   "outputs": [
    {
     "name": "stderr",
     "output_type": "stream",
     "text": [
      "/anaconda3/lib/python3.6/site-packages/skimage/transform/_warps.py:84: UserWarning: The default mode, 'constant', will be changed to 'reflect' in skimage 0.15.\n",
      "  warn(\"The default mode, 'constant', will be changed to 'reflect' in \"\n"
     ]
    }
   ],
   "source": [
    "import numpy as np\n",
    "import os\n",
    "import scipy.ndimage\n",
    "from skimage.feature import hog\n",
    "from sklearn.model_selection import  train_test_split\n",
    "from skimage.transform import resize\n",
    "from skimage.transform import rescale\n",
    "from skimage.color import rgb2gray\n",
    "from skimage.io import imread\n",
    "from sklearn.cluster import KMeans\n",
    "from scipy import misc\n",
    "import matplotlib.pyplot as plt\n",
    "from sklearn.neighbors import KNeighborsClassifier\n",
    "from sklearn.externals import joblib\n",
    "from sklearn import cross_validation\n",
    "from sklearn.metrics import confusion_matrix, accuracy_score\n",
    "\n",
    "features_list = []\n",
    "features_label = []\n",
    "# load labeled training / test data\n",
    "# loop over the 10 directories where each directory stores the images of a digit\n",
    "for digit in range(0,10):\n",
    "    label = digit\n",
    "    training_directory = '/Users/vamseemuppavarapu/Desktop/Digit-classification/Dataset/' + str(label) + '/'\n",
    "    for filename in os.listdir(training_directory):\n",
    "        if (filename.endswith('.tif')):\n",
    "            training_digit_image = imread(training_directory + filename)\n",
    "            \n",
    "           \n",
    "            #print(training_digit_image.shape)\n",
    "            training_digit_image=resize(training_digit_image, (8, 8))\n",
    "            #training_digit_image=rgb2gray(training_digit_image)\n",
    "            #print(training_digit_image.shape)\n",
    "            result=np.array(training_digit_image).flatten()\n",
    "            \n",
    "            features_list.append(result)\n",
    "            #features_list.append(f2)\n",
    "            features_label.append(label)\n",
    "            #print(features_list)"
   ]
  },
  {
   "cell_type": "code",
   "execution_count": 41,
   "metadata": {},
   "outputs": [
    {
     "name": "stdout",
     "output_type": "stream",
     "text": [
      "[[0.93667279 0.99099265 0.99074755 ... 0.98471201 0.98615196 0.97460172]\n",
      " [0.846875   0.99901961 0.99840686 ... 0.99705882 0.99607843 0.99607843]\n",
      " [1.         0.98678002 0.94439338 ... 1.         1.         1.        ]\n",
      " ...\n",
      " [0.99234069 0.98578431 0.52621017 ... 0.98806679 0.95542279 0.97648591]\n",
      " [1.         0.9622549  0.85637255 ... 1.         0.99852941 0.95588235]\n",
      " [0.96875    0.96090686 0.92120098 ... 0.84093137 0.96237745 0.99191176]]\n",
      "(500, 64)\n",
      "(10, 64)\n"
     ]
    }
   ],
   "source": [
    "# store features array into a numpy array\n",
    "features  = np.array(features_list, np.float)\n",
    "print(features)\n",
    "print(features.shape)\n",
    "\n",
    "#x = np.array(features, np.float)\n",
    "#np.savetxt(\"/Users/vamseemuppavarapu/Desktop/Digit-classification/features.txt\", x)\n",
    "targets = np.array(features_label, np.float)\n",
    "X,y=features, targets\n",
    "k_digits = KMeans(n_clusters=10)\n",
    "y_pred=k_digits.fit_predict(X)\n",
    "print(k_digits.cluster_centers_.shape)\n",
    "#centroids = KMeans.cluster_centers\n",
    "#labe=KMeans.label\n",
    "\n"
   ]
  },
  {
   "cell_type": "code",
   "execution_count": 42,
   "metadata": {},
   "outputs": [
    {
     "name": "stdout",
     "output_type": "stream",
     "text": [
      "Neighbors: 1\n",
      "Confusion Matrix\n",
      "[[18  0  1  0  0  0  0  0  0  0]\n",
      " [ 2 12  2  0  0  1  0  1  0  4]\n",
      " [ 0  0 13  0  0  0  0  1  1  1]\n",
      " [ 0  0  0 15  0  0  2  1  0  0]\n",
      " [ 1  4  1  0 10  0  0  3  1  1]\n",
      " [ 3  0  1  0  0  8  3  0  0  0]\n",
      " [ 0  1  0  4  0  2 16  1  1  0]\n",
      " [ 1  1  0  0  0  1  0 16  0  0]\n",
      " [ 0  1  1  0  0  0  0  1 15  0]\n",
      " [ 3  4  6  2  1  0  3  1  0  7]]\n",
      "Accuracy score: 0.650000\n",
      "Neighbors: 3\n",
      "Confusion Matrix\n",
      "[[18  1  0  0  0  0  0  0  0  0]\n",
      " [ 5 16  1  0  0  0  0  0  0  0]\n",
      " [ 0  1 15  0  0  0  0  0  0  0]\n",
      " [ 0  0  0 15  0  0  2  1  0  0]\n",
      " [ 2  4  2  0 10  0  0  2  0  1]\n",
      " [ 3  0  1  0  0  9  2  0  0  0]\n",
      " [ 0  0  0  6  0  3 16  0  0  0]\n",
      " [ 3  1  0  0  0  0  0 15  0  0]\n",
      " [ 0  1  1  0  0  0  0  0 16  0]\n",
      " [ 5  5  7  0  1  2  3  0  0  4]]\n",
      "Accuracy score: 0.670000\n",
      "Neighbors: 5\n",
      "Confusion Matrix\n",
      "[[18  0  1  0  0  0  0  0  0  0]\n",
      " [ 2 18  0  0  0  1  0  1  0  0]\n",
      " [ 0  0 15  0  0  0  0  0  1  0]\n",
      " [ 0  0  0 17  0  0  1  0  0  0]\n",
      " [ 0  3  2  0 12  0  0  2  1  1]\n",
      " [ 2  0  1  2  0  8  2  0  0  0]\n",
      " [ 1  0  0  8  0  4 11  1  0  0]\n",
      " [ 1  2  0  0  0  0  0 16  0  0]\n",
      " [ 0  1  0  0  0  1  0  0 16  0]\n",
      " [ 9  4  4  0  1  2  3  0  0  4]]\n",
      "Accuracy score: 0.675000\n",
      "Neighbors: 7\n",
      "Confusion Matrix\n",
      "[[18  0  1  0  0  0  0  0  0  0]\n",
      " [ 2 17  0  0  0  0  1  1  0  1]\n",
      " [ 0  0 16  0  0  0  0  0  0  0]\n",
      " [ 0  0  0 15  0  0  3  0  0  0]\n",
      " [ 1  3  2  0 12  0  0  1  1  1]\n",
      " [ 2  0  0  2  0 10  1  0  0  0]\n",
      " [ 0  0  0  5  0  3 16  1  0  0]\n",
      " [ 1  0  0  0  0  0  0 18  0  0]\n",
      " [ 0  1  0  0  0  0  0  0 17  0]\n",
      " [ 6  3  5  3  0  0  4  2  0  4]]\n",
      "Accuracy score: 0.715000\n",
      "Neighbors: 9\n",
      "Confusion Matrix\n",
      "[[18  0  1  0  0  0  0  0  0  0]\n",
      " [ 3 18  0  0  0  1  0  0  0  0]\n",
      " [ 0  0 16  0  0  0  0  0  0  0]\n",
      " [ 0  0  0 15  0  1  2  0  0  0]\n",
      " [ 0  4  2  1 10  1  0  1  2  0]\n",
      " [ 2  0  0  2  0 10  1  0  0  0]\n",
      " [ 0  0  0  6  0  2 15  2  0  0]\n",
      " [ 1  0  0  0  0  0  0 18  0  0]\n",
      " [ 0  1  0  0  0  0  0  0 17  0]\n",
      " [ 6  5  4  3  0  0  3  2  1  3]]\n",
      "Accuracy score: 0.700000\n"
     ]
    }
   ],
   "source": [
    "X_train, X_test, y_train, y_test = cross_validation.train_test_split(features, features_label, test_size=0.4, random_state=0)\n",
    "\n",
    "# runs the kNN classifier for even number of neighbors from 1 to 10\n",
    "for n in range(1, 10, 2):\n",
    "        clf = KNeighborsClassifier(n)\n",
    "\n",
    "        # instance based learning\n",
    "        clf.fit(X_train, y_train)\n",
    "\n",
    "        # our 'ground truth'\n",
    "        y_true = y_test\n",
    "\n",
    "        # predict\n",
    "        y_pred = clf.predict(X_test)\n",
    "\n",
    "        # learning metrics\n",
    "        cm = confusion_matrix(y_true, y_pred)\n",
    "        acc = accuracy_score(y_true, y_pred)\n",
    "\n",
    "        print(\"Neighbors: %d\" % n)\n",
    "        print(\"Confusion Matrix\")\n",
    "        print(cm)\n",
    "\n",
    "        print(\"Accuracy score: %f\" % accuracy_score(y_true, y_pred))"
   ]
  },
  {
   "cell_type": "code",
   "execution_count": null,
   "metadata": {},
   "outputs": [],
   "source": []
  },
  {
   "cell_type": "code",
   "execution_count": 43,
   "metadata": {},
   "outputs": [
    {
     "data": {
      "image/png": "[encoded data removed]",
      "text/plain": [
       "<matplotlib.figure.Figure at 0x1c130fc358>"
      ]
     },
     "metadata": {},
     "output_type": "display_data"
    }
   ],
   "source": [
    "#The shape tells us these are centroids, that is the center of each of the clusters. In essence, 8x8 images of each of the \n",
    "#10 digits (atleast we expect it to be). Let's find out by visualizing these using scatter.\n",
    "\n",
    "fig = plt.figure(figsize=(8,3))\n",
    "for i in range(10):\n",
    "    ax = fig.add_subplot(2, 5, i+1, xticks=[], yticks=[])\n",
    "    ax.imshow(np.reshape(k_digits.cluster_centers_[i],(8,8)), cmap=plt.cm.binary)\n",
    "\n",
    "#That is pretty great. It actually was able to find the clusters of the 10 digits nicely.\n",
    "#Number 8 doesn't look very clear but everything else looks very good."
   ]
  },
  {
   "cell_type": "code",
   "execution_count": null,
   "metadata": {},
   "outputs": [],
   "source": []
  }
 ],
 "metadata": {
  "kernelspec": {
   "display_name": "Python 3",
   "language": "python",
   "name": "python3"
  },
  "language_info": {
   "codemirror_mode": {
    "name": "ipython",
    "version": 3
   },
   "file_extension": ".py",
   "mimetype": "text/x-python",
   "name": "python",
   "nbconvert_exporter": "python",
   "pygments_lexer": "ipython3",
   "version": "3.6.4"
  }
 },
 "nbformat": 4,
 "nbformat_minor": 2
}
