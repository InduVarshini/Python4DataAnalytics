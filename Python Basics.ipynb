{
 "cells": [
  {
   "cell_type": "code",
   "execution_count": 3,
   "metadata": {},
   "outputs": [
    {
     "name": "stdout",
     "output_type": "stream",
     "text": [
      "Hello World...!\n"
     ]
    }
   ],
   "source": [
    "print(\"Hello World...!\") #python 3 syntax"
   ]
  },
  {
   "cell_type": "code",
   "execution_count": 4,
   "metadata": {},
   "outputs": [
    {
     "ename": "SyntaxError",
     "evalue": "Missing parentheses in call to 'print'. Did you mean print(\"Hello\" #Python 2 syntax)? (<ipython-input-4-0ac2b9750cd1>, line 1)",
     "output_type": "error",
     "traceback": [
      "\u001b[0;36m  File \u001b[0;32m\"<ipython-input-4-0ac2b9750cd1>\"\u001b[0;36m, line \u001b[0;32m1\u001b[0m\n\u001b[0;31m    print \"Hello\" #Python 2 syntax\u001b[0m\n\u001b[0m                ^\u001b[0m\n\u001b[0;31mSyntaxError\u001b[0m\u001b[0;31m:\u001b[0m Missing parentheses in call to 'print'. Did you mean print(\"Hello\" #Python 2 syntax)?\n"
     ]
    }
   ],
   "source": [
    "print \"Hello\" #Python 2 syntax"
   ]
  },
  {
   "cell_type": "code",
   "execution_count": 5,
   "metadata": {},
   "outputs": [
    {
     "data": {
      "text/plain": [
       "15"
      ]
     },
     "execution_count": 5,
     "metadata": {},
     "output_type": "execute_result"
    }
   ],
   "source": [
    "5+10"
   ]
  },
  {
   "cell_type": "code",
   "execution_count": 11,
   "metadata": {},
   "outputs": [
    {
     "name": "stdout",
     "output_type": "stream",
     "text": [
      "[1, 2, 3, 4, 5]\n",
      "3\n",
      "[3, 4]\n",
      "5\n"
     ]
    }
   ],
   "source": [
    "numbers=[1,2,3,4,5] #list data structure\n",
    "print(numbers)\n",
    "print(numbers[2])\n",
    "print(numbers[2:4]) # : slicing operator\n",
    "print(numbers[-1])"
   ]
  },
  {
   "cell_type": "code",
   "execution_count": 17,
   "metadata": {},
   "outputs": [
    {
     "name": "stdout",
     "output_type": "stream",
     "text": [
      "3.0\n",
      "3.141592653589793\n",
      "8.0\n",
      "10\n",
      "5\n",
      "1\n",
      "-0.3048106211022167\n",
      "2.718281828459045\n",
      "1.3862943611198906\n",
      "2.0\n",
      "23.46\n",
      "0.16416669672472028\n",
      "5\n",
      "[5, 1, 3, 4, 2]\n",
      "81\n"
     ]
    }
   ],
   "source": [
    "import math\n",
    "import random\n",
    "import math as m\n",
    "from math import *\n",
    "print(math.sqrt(9))\n",
    "print(math.pi)\n",
    "print(math.pow(2,3))\n",
    "print(abs(-10))\n",
    "print(max(1,2,3,4,5))\n",
    "print(min(1,2,3,4,5))\n",
    "print(math.sin(60))\n",
    "print(math.e)\n",
    "print(math.log(4))\n",
    "print(math.log10(100))\n",
    "print(round(23.45678,2))\n",
    "print(random.random())\n",
    "\n",
    "nums=[1,2,3,4,5]\n",
    "print(random.choice(nums))\n",
    "random.shuffle(nums)\n",
    "print(nums)\n",
    "print(random.randrange(1,100,1))"
   ]
  },
  {
   "cell_type": "code",
   "execution_count": 28,
   "metadata": {},
   "outputs": [
    {
     "name": "stdout",
     "output_type": "stream",
     "text": [
      "Enter a number: 23\n",
      "23 is a prime number\n"
     ]
    }
   ],
   "source": [
    "import math\n",
    "num = int(input(\"Enter a number: \"))\n",
    "\n",
    "# prime numbers are greater than 1\n",
    "if num > 1:\n",
    "   # check for factors\n",
    "   for i in range(2,(num//2)+1):\n",
    "       if (num % i) == 0:\n",
    "           print(num,\"is not a prime number\")\n",
    "           break\n",
    "   else:\n",
    "       print(num,\"is a prime number\")\n",
    "       \n",
    "# if input number is less than\n",
    "# or equal to 1, it is not prime\n",
    "else:\n",
    "   print(num,\"is not a prime number\")"
   ]
  },
  {
   "cell_type": "code",
   "execution_count": 19,
   "metadata": {},
   "outputs": [
    {
     "name": "stdout",
     "output_type": "stream",
     "text": [
      "10 male msc 6.2 20 50 10\n",
      "1 2.5 kiran\n"
     ]
    },
    {
     "data": {
      "text/plain": [
       "'\\nStandard datatypes in python\\n1. Numbers\\n2. String\\n3. List\\n4. Tuple\\n5. Dictionary\\n\\nPython supports 4 numerical types\\n1. int\\n2. float\\n3. long\\n4. complex\\n'"
      ]
     },
     "execution_count": 19,
     "metadata": {},
     "output_type": "execute_result"
    }
   ],
   "source": [
    "age=10\n",
    "gender='male'\n",
    "section='msc'\n",
    "height=6.2\n",
    "Gender=20\n",
    "AGE=50\n",
    "_=10\n",
    "print(age,gender,section,height,Gender,AGE,_)\n",
    "\n",
    "x,y,z=1,2.5,\"kiran\"\n",
    "print(x,y,z)\n",
    "\"\"\"\n",
    "Standard datatypes in python\n",
    "1. Numbers\n",
    "2. String\n",
    "3. List\n",
    "4. Tuple\n",
    "5. Dictionary\n",
    "\n",
    "Python supports 4 numerical types\n",
    "1. int\n",
    "2. float\n",
    "3. long\n",
    "4. complex\n",
    "\"\"\"\n"
   ]
  },
  {
   "cell_type": "code",
   "execution_count": 20,
   "metadata": {},
   "outputs": [
    {
     "name": "stdout",
     "output_type": "stream",
     "text": [
      "*****Creating and deleting object references*******\n",
      "10\n"
     ]
    }
   ],
   "source": [
    "print(\"*****Creating and deleting object references*******\")\n",
    "var=10\n",
    "print(var)\n",
    "del var # del keyword used to delete the object reference.\n",
    "#print(var)"
   ]
  },
  {
   "cell_type": "code",
   "execution_count": 21,
   "metadata": {},
   "outputs": [
    {
     "name": "stdout",
     "output_type": "stream",
     "text": [
      "******Experiment on String type*******\n",
      "Hello World..!\n",
      "H\n",
      "llo\n",
      "llo World..!\n",
      "Hello World..!Hello World..!\n",
      "Hello World..!TEST\n"
     ]
    }
   ],
   "source": [
    "print(\"******Experiment on String type*******\")\n",
    "str = 'Hello World..!'\n",
    "print(str)          # Prints complete string\n",
    "print(str[0])       # Prints first character of the string\n",
    "print(str[2:5])     # Prints characters starting from 3rd to 5th\n",
    "print(str[2:])      # Prints string starting from 3rd character\n",
    "print(str * 2)      # Prints string two times\n",
    "print(str + \"TEST\") # Prints concatenated string"
   ]
  },
  {
   "cell_type": "code",
   "execution_count": 22,
   "metadata": {},
   "outputs": [
    {
     "name": "stdout",
     "output_type": "stream",
     "text": [
      "******Python List type**********\n",
      "['abcd', 786, 2.23, 'john', 70.2]\n",
      "abcd\n",
      "[786, 2.23]\n",
      "[2.23, 'john', 70.2]\n",
      "[123, 'john', 123, 'john']\n",
      "['abcd', 786, 2.23, 'john', 70.2, 123, 'john']\n"
     ]
    }
   ],
   "source": [
    "print(\"******Python List type**********\")\n",
    "list = [ 'abcd', 786 , 2.23, 'john', 70.2 ]\n",
    "tinylist = [123, 'john']\n",
    "\n",
    "print(list)          # Prints complete list\n",
    "print(list[0])       # Prints first element of the list\n",
    "print(list[1:3])     # Prints elements starting from 2nd till 4th \n",
    "print(list[2:])      # Prints elements starting from 3rd element\n",
    "print(tinylist * 2)  # Prints list two times\n",
    "print(list + tinylist) # Prints concatenated lists"
   ]
  },
  {
   "cell_type": "code",
   "execution_count": 23,
   "metadata": {},
   "outputs": [
    {
     "name": "stdout",
     "output_type": "stream",
     "text": [
      "******Python Tuple type**********\n",
      "('abcd', 786, 2.23, 'john', 70.2)\n",
      "abcd\n",
      "(786, 2.23)\n",
      "(2.23, 'john', 70.2)\n",
      "(123, 'john', 123, 'john')\n",
      "('abcd', 786, 2.23, 'john', 70.2, 123, 'john')\n"
     ]
    }
   ],
   "source": [
    "print(\"******Python Tuple type**********\")\n",
    "tuple = ( 'abcd', 786 , 2.23, 'john', 70.2  )\n",
    "tinytuple = (123, 'john')\n",
    "\n",
    "print(tuple)           # Prints complete list\n",
    "print(tuple[0])        # Prints first element of the list\n",
    "print(tuple[1:3])      # Prints elements starting from 2nd till 3rd \n",
    "print(tuple[2:])       # Prints elements starting from 3rd element\n",
    "print(tinytuple * 2)   # Prints list two times\n",
    "print(tuple + tinytuple) # Prints concatenated lists"
   ]
  },
  {
   "cell_type": "code",
   "execution_count": 24,
   "metadata": {},
   "outputs": [
    {
     "name": "stdout",
     "output_type": "stream",
     "text": [
      "*****difference between list and tuple\n",
      "list is  ['abcd', 786, 1000, 'john', 70.2]\n",
      "tuple is ('abcd', 786, 2.23, 'john', 70.2)\n"
     ]
    }
   ],
   "source": [
    "print(\"*****difference between list and tuple\")\n",
    "#Difference between list and tuple\n",
    "#tuple[2] = 1000    # Invalid syntax with tuple\n",
    "list[2] = 1000     # Valid syntax with list\n",
    "print(\"list is \",list)\n",
    "print(\"tuple is\",tuple)"
   ]
  },
  {
   "cell_type": "code",
   "execution_count": 25,
   "metadata": {},
   "outputs": [
    {
     "name": "stdout",
     "output_type": "stream",
     "text": [
      "******Python Dictionary Type**********\n",
      "This is one\n",
      "This is two\n",
      "{'name': 'john', 'code': 6734, 'dept': 'sales'}\n",
      "dict_keys(['name', 'code', 'dept'])\n",
      "dict_values(['john', 6734, 'sales'])\n"
     ]
    }
   ],
   "source": [
    "print(\"******Python Dictionary Type**********\")\n",
    "\"\"\"\n",
    "Dictionaries are enclosed by curly braces ({ }) and values can be \n",
    "assigned and accessed using square braces ([]).\n",
    "\"\"\"\n",
    "dict = {}\n",
    "dict['one'] = \"This is one\"\n",
    "dict[2]     = \"This is two\"\n",
    "\n",
    "tinydict = {'name': 'john','code':6734, 'dept': 'sales'}\n",
    "\n",
    "#keys can be any python data type generally numbers and strings.\n",
    "print(dict['one'])       # Prints value for 'one' key\n",
    "print(dict[2])           # Prints value for 2 key\n",
    "print(tinydict)          # Prints complete dictionary\n",
    "print(tinydict.keys())  # Prints all the keys\n",
    "print(tinydict.values()) # Prints all the values"
   ]
  },
  {
   "cell_type": "code",
   "execution_count": 27,
   "metadata": {},
   "outputs": [
    {
     "name": "stdout",
     "output_type": "stream",
     "text": [
      "Enter a string: python, data, analytics, workshop, Anokha\n",
      " Anokha\n",
      " analytics\n",
      " data\n",
      " workshop\n",
      "python\n"
     ]
    }
   ],
   "source": [
    "my_str = input(\"Enter a string: \")  \n",
    "# breakdown the string into a list of words  \n",
    "words = my_str.split(',')  \n",
    "# sort the list  \n",
    "words.sort()  \n",
    "# display the sorted words  \n",
    "for word in words:  \n",
    "   print(word)  "
   ]
  },
  {
   "cell_type": "code",
   "execution_count": null,
   "metadata": {},
   "outputs": [],
   "source": []
  }
 ],
 "metadata": {
  "kernelspec": {
   "display_name": "Python 3",
   "language": "python",
   "name": "python3"
  },
  "language_info": {
   "codemirror_mode": {
    "name": "ipython",
    "version": 3
   },
   "file_extension": ".py",
   "mimetype": "text/x-python",
   "name": "python",
   "nbconvert_exporter": "python",
   "pygments_lexer": "ipython3",
   "version": "3.6.4"
  }
 },
 "nbformat": 4,
 "nbformat_minor": 2
}
